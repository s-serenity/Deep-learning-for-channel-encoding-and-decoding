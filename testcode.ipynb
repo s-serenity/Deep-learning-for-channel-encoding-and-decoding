{
  "nbformat": 4,
  "nbformat_minor": 0,
  "metadata": {
    "colab": {
      "name": "“欢迎使用 Colaboratory”的副本",
      "version": "0.3.2",
      "provenance": [],
      "collapsed_sections": [],
      "include_colab_link": true
    },
    "kernelspec": {
      "name": "python3",
      "display_name": "Python 3"
    },
    "accelerator": "TPU"
  },
  "cells": [
    {
      "cell_type": "markdown",
      "metadata": {
        "id": "view-in-github",
        "colab_type": "text"
      },
      "source": [
        "<a href=\"https://colab.research.google.com/github/s-serenity/Deep-learning-for-channel-encoding-and-decoding/blob/master/testcode.ipynb\" target=\"_parent\"><img src=\"https://colab.research.google.com/assets/colab-badge.svg\" alt=\"Open In Colab\"/></a>"
      ]
    },
    {
      "metadata": {
        "colab_type": "text",
        "id": "9J7p406abzgl"
      },
      "cell_type": "markdown",
      "source": [
        "<img height=\"45px\" src=\"https://colab.research.google.com/img/colab_favicon.ico\" align=\"left\" hspace=\"10px\" vspace=\"0px\">\n",
        "\n",
        "<h1>欢迎使用 Colaboratory！</h1>\n",
        "\n",
        "Colaboratory 是一个免费的 Jupyter 笔记本环境，不需要进行任何设置就可以使用，并且完全在云端运行。\n",
        "\n",
        "借助 Colaboratory，您可以编写和执行代码、保存和共享分析结果，以及利用强大的计算资源，所有这些都可通过浏览器免费使用。"
      ]
    },
    {
      "metadata": {
        "cellView": "form",
        "colab_type": "code",
        "id": "xitplqMNk_Hc",
        "outputId": "ed4f60d2-878d-4056-c438-352dac39a112",
        "colab": {
          "height": 420
        }
      },
      "cell_type": "code",
      "source": [
        "#@title Colaboratory 简介\n",
        "#@markdown 下面这个时长 3 分钟的视频概述了 Colaboratory 的主要功能：\n",
        "from IPython.display import YouTubeVideo\n",
        "YouTubeVideo('inN8seMm7UI', width=600, height=400)"
      ],
      "execution_count": 0,
      "outputs": [
        {
          "output_type": "execute_result",
          "data": {
            "text/html": [
              "\n",
              "        <iframe\n",
              "            width=\"600\"\n",
              "            height=400\"\n",
              "            src=\"https://www.youtube.com/embed/inN8seMm7UI\"\n",
              "            frameborder=\"0\"\n",
              "            allowfullscreen\n",
              "        ></iframe>\n",
              "        "
            ],
            "text/plain": [
              "<IPython.lib.display.YouTubeVideo at 0x7f956e9dda50>"
            ]
          },
          "metadata": {
            "tags": []
          },
          "execution_count": 0
        }
      ]
    },
    {
      "metadata": {
        "colab_type": "text",
        "id": "GJBs_flRovLc"
      },
      "cell_type": "markdown",
      "source": [
        "## 开始使用\n",
        "\n",
        "您正在阅读的文档是托管在 Colaboratory 中的 [Jupyter 笔记本](https://jupyter.org)。它并非静态页面，而是一个可让您以 Python 和其他语言编写和执行代码的互动环境。\n",
        "\n",
        "例如，以下**代码单元格**包含一个简短的 Python 脚本，该脚本会计算值、将其存储在变量中并输出结果："
      ]
    },
    {
      "metadata": {
        "colab_type": "code",
        "id": "gJr_9dXGpJ05",
        "outputId": "5626194c-e802-4293-942d-2908885c3c1f",
        "colab": {
          "height": 35
        }
      },
      "cell_type": "code",
      "source": [
        "一天的秒数 = 24 * 60 * 60\n",
        "一天的秒数"
      ],
      "execution_count": 0,
      "outputs": [
        {
          "output_type": "execute_result",
          "data": {
            "text/plain": [
              "86400"
            ]
          },
          "metadata": {
            "tags": []
          },
          "execution_count": 0
        }
      ]
    },
    {
      "metadata": {
        "colab_type": "text",
        "id": "2fhs6GZ4qFMx"
      },
      "cell_type": "markdown",
      "source": [
        "要执行上述单元格中的代码，请点击选择它，然后按代码左侧的“播放”按钮，或使用键盘快捷键“⌘/Ctrl+Enter”。\n",
        "\n",
        "所有单元格都会修改同一全局状态，因此您通过执行某个单元格定义的变量可用在其他单元格中："
      ]
    },
    {
      "metadata": {
        "colab_type": "code",
        "id": "-gE-Ez1qtyIA",
        "outputId": "8d2e4259-4682-4e19-b683-7b9087f28820",
        "colab": {
          "height": 35
        }
      },
      "cell_type": "code",
      "source": [
        "一周的秒数 = 7 * 一天的秒数\n",
        "一周的秒数"
      ],
      "execution_count": 0,
      "outputs": [
        {
          "output_type": "execute_result",
          "data": {
            "text/plain": [
              "604800"
            ]
          },
          "metadata": {
            "tags": []
          },
          "execution_count": 0
        }
      ]
    },
    {
      "metadata": {
        "colab_type": "text",
        "id": "-Rh3-Vt9Nev9"
      },
      "cell_type": "markdown",
      "source": [
        "## 更多资源\n",
        "\n",
        "要了解如何充分利用 Python、Jupyter、Colaboratory 和相关工具，请参阅以下资源：\n",
        "\n",
        "### 机器学习速成课程\n",
        "以下是可以在 Google 的在线机器学习课程中找到的部分笔记本。请查看[完整课程网站](https://developers.google.com/machine-learning/crash-course/)了解详情。\n",
        "- [Pandas 简介](/notebooks/mlcc/intro_to_pandas.ipynb)\n",
        "- [TensorFlow 编程概念](/notebooks/mlcc/tensorflow_programming_concepts.ipynb)\n",
        "- [使用 TensorFlow 的基本步骤](/notebooks/mlcc/first_steps_with_tensor_flow.ipynb)\n",
        "- [神经网络简介](/notebooks/mlcc/intro_to_neural_nets.ipynb)\n",
        "- [稀疏数据和嵌入简介](/notebooks/mlcc/intro_to_sparse_data_and_embeddings.ipynb)\n",
        "\n",
        "### 机器学习示例：Seedbank\n",
        "\n",
        "要查看 Colaboratory 实现的交互式机器学习分析的端到端示例，请查看[Seedbank](https://research.google.com/seedbank/)项目。\n",
        "\n",
        "一些精选示例：\n",
        "\n",
        "- [Neural Style Transfer](https://research.google.com/seedbank/seed/neural_style_transfer_with_tfkeras): 使用深度学习在图像之间转换风格。\n",
        "- [EZ NSynth](https://research.google.com/seedbank/seed/ez_nsynth): 使用 WaveNet 自动编码器合成音频。\n",
        "- [Fashion MNIST with Keras and TPUs](https://research.google.com/seedbank/seed/fashion_mnist_with_keras_and_tpus): 使用深度学习对时装图像进行分类。\n",
        "- [DeepDream](https://research.google.com/seedbank/seed/deepdream): 根据您自己的照片生成 DeepDream 图像。\n",
        "- [Convolutional VAE](https://research.google.com/seedbank/seed/convolutional_vae): 创建手写数字生成模型。"
      ]
    },
    {
      "metadata": {
        "id": "7vYEJ8QEv2cj",
        "colab_type": "code",
        "outputId": "7269eccc-e9f5-4fb6-8259-5aedcc30bd7e",
        "colab": {
          "base_uri": "https://localhost:8080/",
          "height": 1074
        }
      },
      "cell_type": "code",
      "source": [
        "import numpy as np\n",
        "from keras.models import Sequential\n",
        "from keras.layers.core import Dense, Lambda\n",
        "from keras import backend as K\n",
        "import tensorflow as tf\n",
        "import matplotlib.pyplot as plt\n",
        "import time\n",
        "\n",
        "# parameters\n",
        "k = 8                       # number of information bits\n",
        "N = 16                      # code length\n",
        "train_SNR_Eb = 1            # training-Eb/No\n",
        "\n",
        "nb_epoch = 2**16            # number of learning epochs\n",
        "code = 'polar'              # type of code ('random' or 'polar')\n",
        "design = [128, 64, 32]      # each list entry defines the number of nodes in a layer\n",
        "batch_size = 256            # size of batches for calculation the gradient\n",
        "LLR = False                 # 'True' enables the log-likelihood-ratio layer\n",
        "optimizer = 'adam'\n",
        "loss = 'mse'                # or 'binary_crossentropy'\n",
        "\n",
        "train_SNR_Es = train_SNR_Eb + 10*np.log10(k/N)\n",
        "train_sigma = np.sqrt(1/(2*10**(train_SNR_Es/10)))\n",
        "\n",
        "# define NN model\n",
        "def modulateBPSK(x):\n",
        "    return -2*x +1;\n",
        "\n",
        "def addNoise(x, sigma):\n",
        "    w = K.random_normal(K.shape(x), mean=0.0, stddev=sigma)\n",
        "    return x + w\n",
        "\n",
        "def ber(y_true, y_pred):\n",
        "    return K.mean(K.not_equal(y_true, K.round(y_pred)))\n",
        "\n",
        "def return_output_shape(input_shape):\n",
        "    return input_shape\n",
        "\n",
        "def compose_model(layers):\n",
        "    model = Sequential()\n",
        "    for layer in layers:\n",
        "        model.add(layer)\n",
        "    return model\n",
        "\n",
        "def log_likelihood_ratio(x, sigma):\n",
        "    return 2*x/np.float32(sigma**2)\n",
        "\n",
        "\n",
        "def errors(y_true, y_pred):\n",
        "    return K.sum(K.cast(K.not_equal(y_true, K.round(y_pred)),dtype='float16'))\n",
        "\n",
        "# Define modulator\n",
        "modulator_layers = [Lambda(modulateBPSK,\n",
        "                          input_shape=(N,), output_shape=return_output_shape, name=\"modulator\")]\n",
        "modulator = compose_model(modulator_layers)\n",
        "modulator.compile(optimizer=optimizer, loss=loss)\n",
        "\n",
        "# Define noise\n",
        "noise_layers = [Lambda(addNoise, arguments={'sigma':train_sigma},\n",
        "                       input_shape=(N,), output_shape=return_output_shape, name=\"noise\")]\n",
        "noise = compose_model(noise_layers)\n",
        "noise.compile(optimizer=optimizer, loss=loss)\n",
        "\n",
        "# Define LLR\n",
        "llr_layers = [Lambda(log_likelihood_ratio, arguments={'sigma':train_sigma},\n",
        "                     input_shape=(N,), output_shape=return_output_shape, name=\"LLR\")]\n",
        "llr = compose_model(llr_layers)\n",
        "llr.compile(optimizer=optimizer, loss=loss)\n",
        "# Define decoder\n",
        "decoder_layers = [Dense(design[0], activation='relu', input_shape=(N,))]\n",
        "for i in range(1,len(design)):\n",
        "    decoder_layers.append(Dense(design[i], activation='relu'))\n",
        "decoder_layers.append(Dense(k, activation='sigmoid'))\n",
        "decoder = compose_model(decoder_layers)\n",
        "decoder.compile(optimizer=optimizer, loss=loss, metrics=[errors])\n",
        "#decoder.compile(optimizer=optimizer, loss=loss, metrics=[ber])\n",
        "# Define model\n",
        "if LLR:\n",
        "    model_layers = modulator_layers + noise_layers + llr_layers + decoder_layers\n",
        "else:\n",
        "    model_layers = modulator_layers + noise_layers + decoder_layers\n",
        "model = compose_model(model_layers)\n",
        "model.compile(optimizer=optimizer, loss=loss, metrics=[ber])\n",
        "\n",
        "def half_adder(a,b):\n",
        "    s = a ^ b\n",
        "    c = a & b\n",
        "    return s,c\n",
        "\n",
        "def full_adder(a,b,c):\n",
        "    s = (a ^ b) ^ c\n",
        "    c = (a & b) | (c & (a ^ b))\n",
        "    return s,c\n",
        "\n",
        "def add_bool(a,b):\n",
        "    if len(a) != len(b):\n",
        "        raise ValueError('arrays with different length')\n",
        "    k = len(a)\n",
        "    s = np.zeros(k,dtype=bool)\n",
        "    c = False\n",
        "    for i in reversed(range(0,k)):\n",
        "        s[i], c = full_adder(a[i],b[i],c)\n",
        "    if c:\n",
        "        warnings.warn(\"Addition overflow!\")\n",
        "    return s\n",
        "\n",
        "def inc_bool(a):\n",
        "    k = len(a)\n",
        "    increment = np.hstack((np.zeros(k-1,dtype=bool), np.ones(1,dtype=bool)))\n",
        "    a = add_bool(a,increment)\n",
        "    return a\n",
        "\n",
        "def bitrevorder(x):\n",
        "    m = np.amax(x)\n",
        "    #print(m)\n",
        "    n = np.ceil(np.log2(m)).astype(int)\n",
        "    #print(n)\n",
        "    for i in range(0,len(x)):\n",
        "        #print('{:0{n}b}'.format(x[i],n=n))\n",
        "        x[i] = int('{:0{n}b}'.format(x[i],n=n)[::-1],2)\n",
        "    return x\n",
        "\n",
        "def int2bin(x,N):\n",
        "    if isinstance(x, list) or isinstance(x, np.ndarray):\n",
        "        binary = np.zeros((len(x),N),dtype='bool')\n",
        "        for i in range(0,len(x)):\n",
        "            binary[i] = np.array([int(j) for j in bin(x[i])[2:].zfill(N)])\n",
        "    else:\n",
        "        binary = np.array([int(j) for j in bin(x)[2:].zfill(N)],dtype=bool)\n",
        "    return binary\n",
        "\n",
        "def bin2int(b):\n",
        "    if isinstance(b[0], list):\n",
        "        integer = np.zeros((len(b),), dtype=int)\n",
        "        for i in range(0, len(b)):\n",
        "            out = 0\n",
        "            for bit in b[i]:\n",
        "                out = (out << 1) | bit\n",
        "            integer[i] = out\n",
        "    elif isinstance(b, np.ndarray):\n",
        "        if len(b.shape) == 1:\n",
        "            out = 0\n",
        "            for bit in b:\n",
        "                out = (out << 1) | bit\n",
        "            integer = out\n",
        "        else:\n",
        "            integer = np.zeros((b.shape[0],), dtype=int)\n",
        "            for i in range(0, b.shape[0]):\n",
        "                out = 0\n",
        "                for bit in b[i]:\n",
        "                    out = (out << 1) | bit\n",
        "                integer[i] = out\n",
        "\n",
        "            return integer\n",
        "\n",
        "\n",
        "def polar_design_awgn(N, k, design_snr_dB):\n",
        "    S = 10 ** (design_snr_dB / 10)\n",
        "    z0 = np.zeros(N)\n",
        "\n",
        "    z0[0] = np.exp(-S)\n",
        "    for j in range(1, int(np.log2(N)) + 1):\n",
        "        u = 2 ** j\n",
        "        for t in range(0, int(u / 2)):\n",
        "            T = z0[t]\n",
        "            z0[t] = 2 * T - T ** 2  # upper channel\n",
        "            z0[int(u / 2) + t] = T ** 2  # lower channel\n",
        "    #print(z0)\n",
        "    # sort into increasing order\n",
        "    idx = np.argsort(z0)\n",
        "    #print(idx)\n",
        "    # select k best channels\n",
        "    #print(bitrevorder(idx[0:k]))\n",
        "    idx = np.sort(bitrevorder(idx[0:k]))\n",
        "    #print(idx)\n",
        "    A = np.zeros(N, dtype=bool)\n",
        "    A[idx] = True\n",
        "    return A\n",
        "\n",
        "def polar_transform_iter(u):\n",
        "\n",
        "    N = len(u)\n",
        "    n = 1\n",
        "    x = np.copy(u)\n",
        "    stages = np.log2(N).astype(int)\n",
        "    for s in range(0, stages):\n",
        "        i = 0\n",
        "        while i < N:\n",
        "            for j in range(0, n):\n",
        "                idx = i + j\n",
        "                x[idx] = x[idx] ^ x[idx + n]\n",
        "            i = i + 2 * n\n",
        "        n = 2 * n\n",
        "    return x\n",
        "\n",
        "\n",
        "# Create all possible information words\n",
        "d = np.zeros((2 ** k, k), dtype=bool)\n",
        "for i in range(1, 2 ** k):\n",
        "    d[i] = inc_bool(d[i - 1])\n",
        "\n",
        "# Create sets of all possible codewords (codebook)\n",
        "if code == 'polar':\n",
        "\n",
        "    A = polar_design_awgn(N, k, design_snr_dB=0)  # logical vector indicating the nonfrozen bit locations\n",
        "    x = np.zeros((2 ** k, N), dtype=bool)\n",
        "    u = np.zeros((2 ** k, N), dtype=bool)\n",
        "    u[:, A] = d\n",
        "    #print(A)\n",
        "    #print(d)\n",
        "    #print(u)\n",
        "    for i in range(0, 2 ** k):\n",
        "        x[i] = polar_transform_iter(u[i])\n",
        "\n",
        "elif code == 'random':\n",
        "\n",
        "    np.random.seed(4267)  # for a 16bit Random Code (r=0.5) with Hamming distance >= 2\n",
        "    x = np.random.randint(0, 2, size=(2 ** k, N), dtype=bool)\n",
        "\n",
        "before = time.time()\n",
        "# train NN\n",
        "model.summary()\n",
        "history = model.fit(x, d, batch_size=batch_size, epochs=nb_epoch, verbose=0, shuffle=True)\n",
        "# test NN\n",
        "test_batch = 1000\n",
        "num_words = 100000      # multiple of test_batch\n",
        "\n",
        "SNR_dB_start_Eb = 0\n",
        "SNR_dB_stop_Eb = 5\n",
        "SNR_points = 20\n",
        "\n",
        "SNR_dB_start_Es = SNR_dB_start_Eb + 10 * np.log10(k / N)\n",
        "SNR_dB_stop_Es = SNR_dB_stop_Eb + 10 * np.log10(k / N)\n",
        "\n",
        "sigma_start = np.sqrt(1 / (2 * 10 ** (SNR_dB_start_Es / 10)))\n",
        "sigma_stop = np.sqrt(1 / (2 * 10 ** (SNR_dB_stop_Es / 10)))\n",
        "\n",
        "sigmas = np.linspace(sigma_start, sigma_stop, SNR_points)\n",
        "\n",
        "nb_errors = np.zeros(len(sigmas), dtype=int)\n",
        "nb_bits = np.zeros(len(sigmas), dtype=int)\n",
        "\n",
        "for i in range(0, len(sigmas)):\n",
        "\n",
        "    for ii in range(0, np.round(num_words / test_batch).astype(int)):\n",
        "        # Source\n",
        "        np.random.seed(0)\n",
        "        d_test = np.random.randint(0, 2, size=(test_batch, k))\n",
        "        # Encoder\n",
        "        if code == 'polar':\n",
        "            x_test = np.zeros((test_batch, N), dtype=bool)\n",
        "            u_test = np.zeros((test_batch, N), dtype=bool)\n",
        "            u_test[:, A] = d_test\n",
        "\n",
        "            for iii in range(0, test_batch):\n",
        "                x_test[iii] = polar_transform_iter(u_test[iii])\n",
        "\n",
        "        elif code == 'random':\n",
        "            x_test = np.zeros((test_batch, N), dtype=bool)\n",
        "            for iii in range(0, test_batch):\n",
        "                x_test[iii] = x[bin2int(d_test[iii])]\n",
        "\n",
        "        # Modulator (BPSK)\n",
        "        s_test = -2 * x_test + 1\n",
        "\n",
        "        # Channel (AWGN)\n",
        "        y_test = s_test + sigmas[i] * np.random.standard_normal(s_test.shape)\n",
        "        if LLR:\n",
        "            y_test = 2 * y_test / (sigmas[i] ** 2)\n",
        "\n",
        "        # Decoder\n",
        "        nb_errors[i] += decoder.evaluate(y_test, d_test, batch_size=test_batch, verbose=0)[1]\n",
        "        nb_bits[i] += d_test.size\n",
        "after = time.time()\n",
        "print('cost:',after-before)\n",
        "\n",
        "# plot\n",
        "legend = []\n",
        "print(plt.plot(10*np.log10(1/(2*sigmas**2)) - 10*np.log10(k/N), nb_errors/nb_bits))\n",
        "print(nb_errors/nb_bits)\n",
        "plt.plot(10*np.log10(1/(2*sigmas**2)) - 10*np.log10(k/N), nb_errors/nb_bits)\n",
        "legend.append('NN')\n",
        "\n",
        "\n",
        "plt.legend(legend, loc=3)\n",
        "plt.yscale('log')\n",
        "plt.xlabel('$E_b/N_0$')\n",
        "plt.ylabel('BER')\n",
        "plt.grid(True)\n",
        "plt.show()\n"
      ],
      "execution_count": 0,
      "outputs": [
        {
          "output_type": "stream",
          "text": [
            "Using TensorFlow backend.\n"
          ],
          "name": "stderr"
        },
        {
          "output_type": "stream",
          "text": [
            "WARNING:tensorflow:From /usr/local/lib/python3.6/dist-packages/tensorflow/python/framework/op_def_library.py:263: colocate_with (from tensorflow.python.framework.ops) is deprecated and will be removed in a future version.\n",
            "Instructions for updating:\n",
            "Colocations handled automatically by placer.\n",
            "[9.99350172e-01 6.87549013e-01 8.32760404e-01 7.12742441e-02\n",
            " 9.13663420e-01 1.23310493e-01 2.43041496e-01 6.70812721e-04\n",
            " 9.49666367e-01 1.94504679e-01 3.49340835e-01 1.31738620e-03\n",
            " 4.98674841e-01 4.05552570e-03 1.68912593e-02 1.12535175e-07]\n",
            "15\n",
            "4\n",
            "1111\n",
            "0111\n",
            "1011\n",
            "1101\n",
            "1110\n",
            "0011\n",
            "0101\n",
            "1001\n",
            "_________________________________________________________________\n",
            "Layer (type)                 Output Shape              Param #   \n",
            "=================================================================\n",
            "modulator (Lambda)           (None, 16)                0         \n",
            "_________________________________________________________________\n",
            "noise (Lambda)               (None, 16)                0         \n",
            "_________________________________________________________________\n",
            "dense_1 (Dense)              (None, 128)               2176      \n",
            "_________________________________________________________________\n",
            "dense_2 (Dense)              (None, 64)                8256      \n",
            "_________________________________________________________________\n",
            "dense_3 (Dense)              (None, 32)                2080      \n",
            "_________________________________________________________________\n",
            "dense_4 (Dense)              (None, 8)                 264       \n",
            "=================================================================\n",
            "Total params: 12,776\n",
            "Trainable params: 12,776\n",
            "Non-trainable params: 0\n",
            "_________________________________________________________________\n",
            "WARNING:tensorflow:From /usr/local/lib/python3.6/dist-packages/tensorflow/python/ops/math_ops.py:3066: to_int32 (from tensorflow.python.ops.math_ops) is deprecated and will be removed in a future version.\n",
            "Instructions for updating:\n",
            "Use tf.cast instead.\n",
            "cost: 250.052006483078\n"
          ],
          "name": "stdout"
        },
        {
          "output_type": "display_data",
          "data": {
            "image/png": "[encoded data removed]",
            "text/plain": [
              "<Figure size 576x396 with 1 Axes>"
            ]
          },
          "metadata": {
            "tags": []
          }
        }
      ]
    },
    {
      "metadata": {
        "id": "khbhPfXny0Z2",
        "colab_type": "code",
        "colab": {}
      },
      "cell_type": "code",
      "source": [
        ""
      ],
      "execution_count": 0,
      "outputs": []
    }
  ]
}